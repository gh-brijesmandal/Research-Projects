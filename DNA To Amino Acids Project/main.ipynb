{
 "cells": [
  {
   "cell_type": "code",
   "execution_count": 74,
   "id": "ece02a29-67f1-407f-bea9-c605a38c3e7d",
   "metadata": {},
   "outputs": [],
   "source": [
    "# importing table.py which contains DNA patterns with their resulting amino acid\n",
    "import table"
   ]
  },
  {
   "cell_type": "code",
   "execution_count": 75,
   "id": "f2457d32-74d2-4904-84c8-285e461d7398",
   "metadata": {},
   "outputs": [
    {
     "name": "stdout",
     "output_type": "stream",
     "text": [
      "{'ATA': 'I', 'ATC': 'I', 'ATT': 'I', 'ATG': 'M', 'ACA': 'T', 'ACC': 'T', 'ACG': 'T', 'ACT': 'T', 'AAC': 'N', 'AAT': 'N', 'AAA': 'K', 'AAG': 'K', 'AGC': 'S', 'AGT': 'S', 'AGA': 'R', 'AGG': 'R', 'CTA': 'L', 'CTC': 'L', 'CTG': 'L', 'CTT': 'L', 'CCA': 'P', 'CCC': 'P', 'CCG': 'P', 'CCT': 'P', 'CAC': 'H', 'CAT': 'H', 'CAA': 'Q', 'CAG': 'Q', 'CGA': 'R', 'CGC': 'R', 'CGG': 'R', 'CGT': 'R', 'GTA': 'V', 'GTC': 'V', 'GTG': 'V', 'GTT': 'V', 'GCA': 'A', 'GCC': 'A', 'GCG': 'A', 'GCT': 'A', 'GAC': 'D', 'GAT': 'D', 'GAA': 'E', 'GAG': 'E', 'GGA': 'G', 'GGC': 'G', 'GGG': 'G', 'GGT': 'G', 'TCA': 'S', 'TCC': 'S', 'TCG': 'S', 'TCT': 'S', 'TTC': 'F', 'TTT': 'F', 'TTA': 'L', 'TTG': 'L', 'TAC': 'Y', 'TAT': 'Y', 'TAA': '_', 'TAG': '_', 'TGC': 'C', 'TGT': 'C', 'TGA': '_', 'TGG': 'W'}\n"
     ]
    }
   ],
   "source": [
    "print(table.table)"
   ]
  },
  {
   "cell_type": "code",
   "execution_count": 76,
   "id": "8f4b1e70-9d2c-46d6-84f7-1fa2b95468bc",
   "metadata": {},
   "outputs": [],
   "source": [
    "# lets store this\n",
    "table = table.table  # lmfao interesting"
   ]
  },
  {
   "cell_type": "code",
   "execution_count": 77,
   "id": "90e1a954-e020-4d86-9d27-eb5b44edd2cc",
   "metadata": {},
   "outputs": [
    {
     "data": {
      "text/plain": [
       "{'ATA': 'I',\n",
       " 'ATC': 'I',\n",
       " 'ATT': 'I',\n",
       " 'ATG': 'M',\n",
       " 'ACA': 'T',\n",
       " 'ACC': 'T',\n",
       " 'ACG': 'T',\n",
       " 'ACT': 'T',\n",
       " 'AAC': 'N',\n",
       " 'AAT': 'N',\n",
       " 'AAA': 'K',\n",
       " 'AAG': 'K',\n",
       " 'AGC': 'S',\n",
       " 'AGT': 'S',\n",
       " 'AGA': 'R',\n",
       " 'AGG': 'R',\n",
       " 'CTA': 'L',\n",
       " 'CTC': 'L',\n",
       " 'CTG': 'L',\n",
       " 'CTT': 'L',\n",
       " 'CCA': 'P',\n",
       " 'CCC': 'P',\n",
       " 'CCG': 'P',\n",
       " 'CCT': 'P',\n",
       " 'CAC': 'H',\n",
       " 'CAT': 'H',\n",
       " 'CAA': 'Q',\n",
       " 'CAG': 'Q',\n",
       " 'CGA': 'R',\n",
       " 'CGC': 'R',\n",
       " 'CGG': 'R',\n",
       " 'CGT': 'R',\n",
       " 'GTA': 'V',\n",
       " 'GTC': 'V',\n",
       " 'GTG': 'V',\n",
       " 'GTT': 'V',\n",
       " 'GCA': 'A',\n",
       " 'GCC': 'A',\n",
       " 'GCG': 'A',\n",
       " 'GCT': 'A',\n",
       " 'GAC': 'D',\n",
       " 'GAT': 'D',\n",
       " 'GAA': 'E',\n",
       " 'GAG': 'E',\n",
       " 'GGA': 'G',\n",
       " 'GGC': 'G',\n",
       " 'GGG': 'G',\n",
       " 'GGT': 'G',\n",
       " 'TCA': 'S',\n",
       " 'TCC': 'S',\n",
       " 'TCG': 'S',\n",
       " 'TCT': 'S',\n",
       " 'TTC': 'F',\n",
       " 'TTT': 'F',\n",
       " 'TTA': 'L',\n",
       " 'TTG': 'L',\n",
       " 'TAC': 'Y',\n",
       " 'TAT': 'Y',\n",
       " 'TAA': '_',\n",
       " 'TAG': '_',\n",
       " 'TGC': 'C',\n",
       " 'TGT': 'C',\n",
       " 'TGA': '_',\n",
       " 'TGG': 'W'}"
      ]
     },
     "execution_count": 77,
     "metadata": {},
     "output_type": "execute_result"
    }
   ],
   "source": [
    "table"
   ]
  },
  {
   "cell_type": "code",
   "execution_count": 78,
   "id": "45bc9840-a874-4f79-9184-962aa62bd60b",
   "metadata": {},
   "outputs": [],
   "source": [
    "def translate(seq):\n",
    "    \"\"\"Translate a string containing a nucleotide sequence into a string containing the \n",
    "        corresponding sequence of amino acids.\n",
    "    \"\"\"\n",
    "    table = {'ATA': 'I',\n",
    "         'ATC': 'I',\n",
    "         'ATT': 'I',\n",
    "         'ATG': 'M',\n",
    "         'ACA': 'T',\n",
    "         'ACC': 'T',\n",
    "         'ACG': 'T',\n",
    "         'ACT': 'T',\n",
    "         'AAC': 'N',\n",
    "         'AAT': 'N',\n",
    "         'AAA': 'K',\n",
    "         'AAG': 'K',\n",
    "         'AGC': 'S',\n",
    "         'AGT': 'S',\n",
    "         'AGA': 'R',\n",
    "         'AGG': 'R',\n",
    "         'CTA': 'L',\n",
    "         'CTC': 'L',\n",
    "         'CTG': 'L',\n",
    "         'CTT': 'L',\n",
    "         'CCA': 'P',\n",
    "         'CCC': 'P',\n",
    "         'CCG': 'P',\n",
    "         'CCT': 'P',\n",
    "         'CAC': 'H',\n",
    "         'CAT': 'H',\n",
    "         'CAA': 'Q',\n",
    "         'CAG': 'Q',\n",
    "         'CGA': 'R',\n",
    "         'CGC': 'R',\n",
    "         'CGG': 'R',\n",
    "         'CGT': 'R',\n",
    "         'GTA': 'V',\n",
    "         'GTC': 'V',\n",
    "         'GTG': 'V',\n",
    "         'GTT': 'V',\n",
    "         'GCA': 'A',\n",
    "         'GCC': 'A',\n",
    "         'GCG': 'A',\n",
    "         'GCT': 'A',\n",
    "         'GAC': 'D',\n",
    "         'GAT': 'D',\n",
    "         'GAA': 'E',\n",
    "         'GAG': 'E',\n",
    "         'GGA': 'G',\n",
    "         'GGC': 'G',\n",
    "         'GGG': 'G',\n",
    "         'GGT': 'G',\n",
    "         'TCA': 'S',\n",
    "         'TCC': 'S',\n",
    "         'TCG': 'S',\n",
    "         'TCT': 'S',\n",
    "         'TTC': 'F',\n",
    "         'TTT': 'F',\n",
    "         'TTA': 'L',\n",
    "         'TTG': 'L',\n",
    "         'TAC': 'Y',\n",
    "         'TAT': 'Y',\n",
    "         'TAA': '_',\n",
    "         'TAG': '_',\n",
    "         'TGC': 'C',\n",
    "         'TGT': 'C',\n",
    "         'TGA': '_',\n",
    "         'TGG': 'W'\n",
    "        }\n",
    "    protein = \"\"\n",
    "    if len(seq) %3 == 0:\n",
    "        for i in range(0,len(seq),3):\n",
    "            codon = seq[i : i+3]\n",
    "            protein += table[codon]\n",
    "        return protein"
   ]
  },
  {
   "cell_type": "code",
   "execution_count": 79,
   "id": "f7bb67de-1e9f-425a-9a54-831860731a0f",
   "metadata": {},
   "outputs": [
    {
     "data": {
      "text/plain": [
       "'I'"
      ]
     },
     "execution_count": 79,
     "metadata": {},
     "output_type": "execute_result"
    }
   ],
   "source": [
    "translate(\"ATA\") #checking the function"
   ]
  },
  {
   "cell_type": "code",
   "execution_count": 80,
   "id": "a9f019ed-5bad-46e4-a82c-095041388651",
   "metadata": {},
   "outputs": [],
   "source": [
    "def read_seq(inputfile):\n",
    "    \"\"\"Reads and returns input sequence with special characters like \\n and \\r \n",
    "    removed.\"\"\" \n",
    "    with open(inputfile,\"r\") as f:\n",
    "        seq = f.read()\n",
    "        seq = seq.replace(\"\\n\",\"\")\n",
    "        seq = seq.replace(\"\\r\",\"\")  # some data files contain \\r\n",
    "        return seq"
   ]
  },
  {
   "cell_type": "code",
   "execution_count": 81,
   "id": "b2000613-c2b4-4ec1-bfcd-1d39cfb9433d",
   "metadata": {},
   "outputs": [],
   "source": [
    "protein_sequence = read_seq(\"amino acids (protein) .txt\")"
   ]
  },
  {
   "cell_type": "code",
   "execution_count": 82,
   "id": "ec20933e-542d-4f41-81fa-de57612289ef",
   "metadata": {},
   "outputs": [
    {
     "data": {
      "text/plain": [
       "'MSTHDTSLKTTEEVAFQIILLCQFGVGTFANVFLFVYNFSPISTGSKQRPRQVILRHMAVANALTLFLTIFPNNMMTFAPIIPQTDLKCKLEFFTRLVARSTNLCSTCVLSIHQFVTLVPVNSGKGILRASVTNMASYSCYSCWFFSVLNNIYIPIKVTGPQLTDNNNNSKSKLFCSTSDFSVGIVFLRFAHDATFMSIMVWTSVSMVLLLHRHCQRMQYIFTLNQDPRGQAETTATHTILMLVVTFVGFYLLSLICIIFYTYFIYSHHSLRHCNDILVSGFPTISPLLLTFRDPKGPCSVFFNC'"
      ]
     },
     "execution_count": 82,
     "metadata": {},
     "output_type": "execute_result"
    }
   ],
   "source": [
    "protein_sequence"
   ]
  },
  {
   "cell_type": "code",
   "execution_count": 83,
   "id": "b5351171-91ef-4c40-9a61-53a48ee3b165",
   "metadata": {},
   "outputs": [],
   "source": [
    "dna_sequence = read_seq(\"dna sample NCBI.txt\")"
   ]
  },
  {
   "cell_type": "code",
   "execution_count": 84,
   "id": "65d4abbe-6c26-4c6a-b69f-79c2d0e9dd2c",
   "metadata": {},
   "outputs": [
    {
     "data": {
      "text/plain": [
       "'GGTCAGAAAAAGCCCTCTCCATGTCTACTCACGATACATCCCTGAAAACCACTGAGGAAGTGGCTTTTCAGATCATCTTGCTTTGCCAGTTTGGGGTTGGGACTTTTGCCAATGTATTTCTCTTTGTCTATAATTTCTCTCCAATCTCGACTGGTTCTAAACAGAGGCCCAGACAAGTGATTTTAAGACACATGGCTGTGGCCAATGCCTTAACTCTCTTCCTCACTATATTTCCAAACAACATGATGACTTTTGCTCCAATTATTCCTCAAACTGACCTCAAATGTAAATTAGAATTCTTCACTCGCCTCGTGGCAAGAAGCACAAACTTGTGTTCAACTTGTGTTCTGAGTATCCATCAGTTTGTCACACTTGTTCCTGTTAATTCAGGTAAAGGAATACTCAGAGCAAGTGTCACAAACATGGCAAGTTATTCTTGTTACAGTTGTTGGTTCTTCAGTGTCTTAAATAACATCTACATTCCAATTAAGGTCACTGGTCCACAGTTAACAGACAATAACAATAACTCTAAAAGCAAGTTGTTCTGTTCCACTTCTGATTTCAGTGTAGGCATTGTCTTCTTGAGGTTTGCCCATGATGCCACATTCATGAGCATCATGGTCTGGACCAGTGTCTCCATGGTACTTCTCCTCCATAGACATTGTCAGAGAATGCAGTACATATTCACTCTCAATCAGGACCCCAGGGGCCAAGCAGAGACCACAGCAACCCATACTATCCTGATGCTGGTAGTCACATTTGTTGGCTTTTATCTTCTAAGTCTTATTTGTATCATCTTTTACACCTATTTTATATATTCTCATCATTCCCTGAGGCATTGCAATGACATTTTGGTTTCGGGTTTCCCTACAATTTCTCCTTTACTGTTGACCTTCAGAGACCCTAAGGGTCCTTGTTCTGTGTTCTTCAACTGTTGAAAGCCAGAGTCACTAAAAATGCCAAACACAGAAGACAGCTTTGCTAATACCATTAAATACTTTATTCCATAAATATGTTTTTAAAAGCTTGTATGAACAAGGTATGGTGCTCACTGCTATACTTATAAAAGAGTAAGGTTATAATCACTTGTTGATATGAAAAGATTTCTGGTTGGAATCTGATTGAAACAGTGAGTTATTCACCACCCTCCATTCTCT'"
      ]
     },
     "execution_count": 84,
     "metadata": {},
     "output_type": "execute_result"
    }
   ],
   "source": [
    "dna_sequence"
   ]
  },
  {
   "cell_type": "code",
   "execution_count": 85,
   "id": "416cd221-3523-4b51-ba32-4ec83b7164b9",
   "metadata": {},
   "outputs": [],
   "source": [
    "# NCBI data has DNA sample from 21st character to 938 character\n",
    "# in python that is 20 to 937 (20,938)"
   ]
  },
  {
   "cell_type": "code",
   "execution_count": 86,
   "id": "952c1875-6478-449d-a6f1-68f0acbabf41",
   "metadata": {},
   "outputs": [
    {
     "data": {
      "text/plain": [
       "'MSTHDTSLKTTEEVAFQIILLCQFGVGTFANVFLFVYNFSPISTGSKQRPRQVILRHMAVANALTLFLTIFPNNMMTFAPIIPQTDLKCKLEFFTRLVARSTNLCSTCVLSIHQFVTLVPVNSGKGILRASVTNMASYSCYSCWFFSVLNNIYIPIKVTGPQLTDNNNNSKSKLFCSTSDFSVGIVFLRFAHDATFMSIMVWTSVSMVLLLHRHCQRMQYIFTLNQDPRGQAETTATHTILMLVVTFVGFYLLSLICIIFYTYFIYSHHSLRHCNDILVSGFPTISPLLLTFRDPKGPCSVFFNC_'"
      ]
     },
     "execution_count": 86,
     "metadata": {},
     "output_type": "execute_result"
    }
   ],
   "source": [
    "translate(dna_sequence[20:938])"
   ]
  },
  {
   "cell_type": "code",
   "execution_count": 87,
   "id": "11218ecd-247f-4388-a2b7-91a8d7fe7a46",
   "metadata": {},
   "outputs": [],
   "source": [
    "# _ means stop codon"
   ]
  },
  {
   "cell_type": "code",
   "execution_count": 88,
   "id": "7a4cdfe0-5cb6-44c3-93ec-7368012964e9",
   "metadata": {},
   "outputs": [
    {
     "data": {
      "text/plain": [
       "True"
      ]
     },
     "execution_count": 88,
     "metadata": {},
     "output_type": "execute_result"
    }
   ],
   "source": [
    "protein_sequence == translate(dna_sequence[20:938])[:-1]"
   ]
  },
  {
   "cell_type": "code",
   "execution_count": 89,
   "id": "48c2507a-836b-43a0-95c0-70bc38cf75ec",
   "metadata": {},
   "outputs": [],
   "source": [
    "# Data matches. Project Success. "
   ]
  },
  {
   "cell_type": "code",
   "execution_count": 90,
   "id": "657ecdfe-c0b2-4c46-a8f0-c45bb0eb80b0",
   "metadata": {},
   "outputs": [],
   "source": [
    "#Thus we can use this data to fetch more DNA codons and get their protein values"
   ]
  }
 ],
 "metadata": {
  "kernelspec": {
   "display_name": "Python 3 (ipykernel)",
   "language": "python",
   "name": "python3"
  },
  "language_info": {
   "codemirror_mode": {
    "name": "ipython",
    "version": 3
   },
   "file_extension": ".py",
   "mimetype": "text/x-python",
   "name": "python",
   "nbconvert_exporter": "python",
   "pygments_lexer": "ipython3",
   "version": "3.12.3"
  }
 },
 "nbformat": 4,
 "nbformat_minor": 5
}
